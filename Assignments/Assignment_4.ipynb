{
 "cells": [
  {
   "cell_type": "markdown",
   "metadata": {},
   "source": [
    "## Classify if a Pokemon is a bug"
   ]
  },
  {
   "cell_type": "code",
   "execution_count": 426,
   "metadata": {},
   "outputs": [],
   "source": [
    "import pandas as pd\n",
    "from sklearn.model_selection import train_test_split\n",
    "from sklearn.tree import DecisionTreeClassifier\n",
    "from sklearn.ensemble import RandomForestClassifier\n",
    "from sklearn import metrics\n",
    "import seaborn as sns\n",
    "from sklearn.metrics import confusion_matrix\n",
    "import matplotlib.pyplot as plt"
   ]
  },
  {
   "cell_type": "code",
   "execution_count": 435,
   "metadata": {},
   "outputs": [
    {
     "name": "stdout",
     "output_type": "stream",
     "text": [
      "['bug' 'not bug']\n"
     ]
    }
   ],
   "source": [
    "df = pd.read_csv('pokemon_data.csv')\n",
    "classes = df['Type'].unique()\n",
    "print(classes)"
   ]
  },
  {
   "cell_type": "code",
   "execution_count": 436,
   "metadata": {},
   "outputs": [
    {
     "data": {
      "text/html": [
       "<div>\n",
       "<style scoped>\n",
       "    .dataframe tbody tr th:only-of-type {\n",
       "        vertical-align: middle;\n",
       "    }\n",
       "\n",
       "    .dataframe tbody tr th {\n",
       "        vertical-align: top;\n",
       "    }\n",
       "\n",
       "    .dataframe thead th {\n",
       "        text-align: right;\n",
       "    }\n",
       "</style>\n",
       "<table border=\"1\" class=\"dataframe\">\n",
       "  <thead>\n",
       "    <tr style=\"text-align: right;\">\n",
       "      <th></th>\n",
       "      <th>name</th>\n",
       "      <th>attack</th>\n",
       "      <th>capture_rate</th>\n",
       "      <th>defense</th>\n",
       "      <th>height_m</th>\n",
       "      <th>hp</th>\n",
       "      <th>speed</th>\n",
       "      <th>weight_kg</th>\n",
       "      <th>Type</th>\n",
       "    </tr>\n",
       "  </thead>\n",
       "  <tbody>\n",
       "    <tr>\n",
       "      <th>0</th>\n",
       "      <td>Cutiefly</td>\n",
       "      <td>45</td>\n",
       "      <td>190</td>\n",
       "      <td>40</td>\n",
       "      <td>0.1</td>\n",
       "      <td>40</td>\n",
       "      <td>84</td>\n",
       "      <td>0.2</td>\n",
       "      <td>bug</td>\n",
       "    </tr>\n",
       "    <tr>\n",
       "      <th>1</th>\n",
       "      <td>Ribombee</td>\n",
       "      <td>55</td>\n",
       "      <td>75</td>\n",
       "      <td>60</td>\n",
       "      <td>0.2</td>\n",
       "      <td>60</td>\n",
       "      <td>124</td>\n",
       "      <td>0.5</td>\n",
       "      <td>bug</td>\n",
       "    </tr>\n",
       "    <tr>\n",
       "      <th>2</th>\n",
       "      <td>Joltik</td>\n",
       "      <td>47</td>\n",
       "      <td>190</td>\n",
       "      <td>50</td>\n",
       "      <td>0.1</td>\n",
       "      <td>50</td>\n",
       "      <td>65</td>\n",
       "      <td>0.6</td>\n",
       "      <td>bug</td>\n",
       "    </tr>\n",
       "    <tr>\n",
       "      <th>3</th>\n",
       "      <td>Shedinja</td>\n",
       "      <td>90</td>\n",
       "      <td>45</td>\n",
       "      <td>45</td>\n",
       "      <td>0.8</td>\n",
       "      <td>1</td>\n",
       "      <td>40</td>\n",
       "      <td>1.2</td>\n",
       "      <td>bug</td>\n",
       "    </tr>\n",
       "    <tr>\n",
       "      <th>4</th>\n",
       "      <td>Surskit</td>\n",
       "      <td>30</td>\n",
       "      <td>200</td>\n",
       "      <td>32</td>\n",
       "      <td>0.5</td>\n",
       "      <td>40</td>\n",
       "      <td>65</td>\n",
       "      <td>1.7</td>\n",
       "      <td>bug</td>\n",
       "    </tr>\n",
       "  </tbody>\n",
       "</table>\n",
       "</div>"
      ],
      "text/plain": [
       "       name  attack  capture_rate  defense  height_m  hp  speed  weight_kg  \\\n",
       "0  Cutiefly      45           190       40       0.1  40     84        0.2   \n",
       "1  Ribombee      55            75       60       0.2  60    124        0.5   \n",
       "2    Joltik      47           190       50       0.1  50     65        0.6   \n",
       "3  Shedinja      90            45       45       0.8   1     40        1.2   \n",
       "4   Surskit      30           200       32       0.5  40     65        1.7   \n",
       "\n",
       "  Type  \n",
       "0  bug  \n",
       "1  bug  \n",
       "2  bug  \n",
       "3  bug  \n",
       "4  bug  "
      ]
     },
     "execution_count": 436,
     "metadata": {},
     "output_type": "execute_result"
    }
   ],
   "source": [
    "df.head()"
   ]
  },
  {
   "cell_type": "markdown",
   "metadata": {},
   "source": [
    "### Data Visualizations (Optional)"
   ]
  },
  {
   "cell_type": "markdown",
   "metadata": {},
   "source": [
    "We recommend you to visualize your dataset with histograms and scatter plots before training so that you gain some insights on the data."
   ]
  },
  {
   "cell_type": "code",
   "execution_count": 2,
   "metadata": {},
   "outputs": [],
   "source": [
    "## This cell is optional & ungraded\n",
    "\n",
    "## YOUR CODE HERE ##\n",
    "\n",
    "\n",
    "\n",
    "\n",
    "## YOUR CODE HERE ##"
   ]
  },
  {
   "cell_type": "markdown",
   "metadata": {},
   "source": [
    "### Define X and y\n",
    "\n",
    "X -> Inpput data\n",
    "\n",
    "y -> labels"
   ]
  },
  {
   "cell_type": "code",
   "execution_count": 418,
   "metadata": {},
   "outputs": [],
   "source": [
    "## YOUR CODE HERE ##\n",
    "\n",
    "X = \n",
    "y = \n",
    "\n",
    "## YOUR CODE HERE ##"
   ]
  },
  {
   "cell_type": "markdown",
   "metadata": {},
   "source": [
    "### Feature Engineering (Optional)"
   ]
  },
  {
   "cell_type": "code",
   "execution_count": null,
   "metadata": {},
   "outputs": [],
   "source": [
    "## This cell is optional & ungraded\n",
    "\n",
    "## YOUR CODE HERE ##\n",
    "\n",
    "# X =\n",
    "# y =\n",
    "\n",
    "## YOUR CODE HERE ##"
   ]
  },
  {
   "cell_type": "markdown",
   "metadata": {},
   "source": [
    "### Train your model"
   ]
  },
  {
   "cell_type": "code",
   "execution_count": 419,
   "metadata": {},
   "outputs": [],
   "source": [
    "train_X, test_X, train_y, test_y = train_test_split(X,y, test_size=0.25, random_state=1, stratify=y)\n",
    "\n",
    "## YOUR CODE HERE ##\n",
    "\n",
    "predicted =\n",
    "\n",
    "## YOUR CODE HERE ##"
   ]
  },
  {
   "cell_type": "markdown",
   "metadata": {},
   "source": [
    "### Evaluate your model"
   ]
  },
  {
   "cell_type": "markdown",
   "metadata": {},
   "source": [
    "Accuracy >= 85%  , F-score >= 80% (45 points)\n",
    "\n",
    "Accuracy >= 90%, F-score >= 89% (5 bonus points)"
   ]
  },
  {
   "cell_type": "code",
   "execution_count": null,
   "metadata": {},
   "outputs": [],
   "source": [
    "#Test your accuracy\n",
    "\n",
    "print(metrics.classification_report(predicted, test_y))"
   ]
  },
  {
   "cell_type": "code",
   "execution_count": null,
   "metadata": {},
   "outputs": [],
   "source": [
    "mat = confusion_matrix(test_y, predicted)\n",
    "sns.heatmap(mat.T, square=True, annot=True,fmt='d', cbar=False)\n",
    "plt.xlabel('true label')\n",
    "plt.ylabel('predicted label');"
   ]
  },
  {
   "cell_type": "markdown",
   "metadata": {},
   "source": [
    "### Submit your assignment\n",
    "\n",
    "Submit this assignment with .ipynb format from this [link](https://forms.gle/imup4StVptfrg4Eu6)"
   ]
  }
 ],
 "metadata": {
  "kernelspec": {
   "display_name": "Python 3",
   "language": "python",
   "name": "python3"
  },
  "language_info": {
   "codemirror_mode": {
    "name": "ipython",
    "version": 3
   },
   "file_extension": ".py",
   "mimetype": "text/x-python",
   "name": "python",
   "nbconvert_exporter": "python",
   "pygments_lexer": "ipython3",
   "version": "3.8.5"
  }
 },
 "nbformat": 4,
 "nbformat_minor": 4
}
